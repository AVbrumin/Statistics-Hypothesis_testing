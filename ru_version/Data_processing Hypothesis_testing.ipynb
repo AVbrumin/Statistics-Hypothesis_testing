{
 "cells": [
  {
   "cell_type": "code",
   "execution_count": 1,
   "id": "b0296d59",
   "metadata": {},
   "outputs": [],
   "source": [
    "%matplotlib inline\n",
    "import pandas as pd\n",
    "import numpy as np\n",
    "from time import time\n",
    "import glob\n",
    "from tqdm import tqdm\n",
    "import matplotlib.pyplot as plt\n",
    "import seaborn as sns\n",
    "plt.style.use('ggplot') \n",
    "from scipy import stats\n",
    "import pylab "
   ]
  },
  {
   "cell_type": "markdown",
   "id": "fa426755",
   "metadata": {},
   "source": [
    "### Цели\n",
    "Количество смертностей на 100 000 населения от заболеваний сердечно-сосудистой системы, далее по тексте – **«Показатель»**. \n",
    "- определить среднее значение **«Показателя»** в 2018 году по миру ;\n",
    "- определить изменилось ли среднее значение показателя в **«Показатель»** в 2018 году относительно 2014 года;\n",
    "- определить изменился ли разброс (неоднородность) значений **«Показателя»** в 2018 году относительно 2014 года."
   ]
  },
  {
   "cell_type": "markdown",
   "id": "1c0a5ad1",
   "metadata": {},
   "source": [
    "### Формирование датафрейма\n",
    "Формирование датафрейма из ранее скаченных отдельных csv файлов."
   ]
  },
  {
   "cell_type": "code",
   "execution_count": 8,
   "id": "cae8232b",
   "metadata": {},
   "outputs": [
    {
     "name": "stderr",
     "output_type": "stream",
     "text": [
      "                                                                                                                       "
     ]
    },
    {
     "name": "stdout",
     "output_type": "stream",
     "text": [
      "time: 0.4924945831298828\n"
     ]
    },
    {
     "name": "stderr",
     "output_type": "stream",
     "text": [
      "\r"
     ]
    }
   ],
   "source": [
    "# начало отсчета времени выполнения операции \n",
    "start_time = time()  \n",
    "\n",
    "# формирование списка наименований папок, содержащих csv файлы\n",
    "path_to_new_folder_with_data = 'tabs'\n",
    "list_with_folders_names = glob.glob(path_to_new_folder_with_data + f'\\\\*')  \n",
    "\n",
    "# формирование общего датафрейма из данных, содержащихся в csv файлах\n",
    "total_frame = pd.DataFrame()\n",
    "\n",
    "for i in tqdm(list_with_folders_names, leave=False, desc='concatenation'):\n",
    "    list_with_file_csv_names = glob.glob(i + f'\\\\*.csv') \n",
    "    \n",
    "    for j in list_with_file_csv_names:\n",
    "        \n",
    "        # загрузка и обработка данных из каждого csv файла \n",
    "        intermediate_dataset = pd.read_csv(j, encoding='utf-8', skiprows=[i for i in range(6)], usecols=[i for i in range(12)])\n",
    "        intermediate_dataset = intermediate_dataset.rename(columns={'Number': 'Number of deaths'})\n",
    "        intermediate_dataset['Cause of death'] = i.split('\\\\')[-1]\n",
    "        intermediate_dataset = intermediate_dataset[['Cause of death', 'Country Code', 'Country Name', 'Year', 'Sex', 'Age Group', 'Number of deaths', \\\n",
    "                                                     'Death rate per 100 000 population']]\n",
    "        intermediate_dataset['Sex'] = intermediate_dataset['Sex'].apply(lambda a: 'Both' if a == 'All' else a)\n",
    "\n",
    "        # присоединение данных из каждого csv файла к общему датафрейму\n",
    "        total_frame = pd.concat([total_frame, intermediate_dataset], ignore_index=True)\n",
    "\n",
    "# сохранение общего датафрейма\n",
    "path_to_file_with_total_frame = path_to_new_folder_with_data + f'\\\\WHO_MORTALITY_DATABASE_total_dataframe.csv'\n",
    "total_frame.to_csv(path_to_file_with_total_frame, index=False)\n",
    "\n",
    "# печать времени затраченного на выполнение операции \n",
    "print(f'time: {time() - start_time}')"
   ]
  },
  {
   "cell_type": "markdown",
   "id": "9a2033aa",
   "metadata": {},
   "source": [
    "### Обработка датафрейма \n",
    "Из предшествующего опыта работы с данными, скаченными с портала ВОЗ, известно о необходимости проверки и обработки исходных данных. "
   ]
  },
  {
   "cell_type": "code",
   "execution_count": 9,
   "id": "7c2b2edc",
   "metadata": {},
   "outputs": [],
   "source": [
    "# загрузка ранее сформированного датафрейма  \n",
    "df = pd.read_csv(\n",
    "    r\"tabs\\WHO_MORTALITY_DATABASE_total_dataframe.csv\", \\\n",
    "    encoding='utf-8')"
   ]
  },
  {
   "cell_type": "code",
   "execution_count": 205,
   "id": "5804f92f",
   "metadata": {},
   "outputs": [
    {
     "name": "stdout",
     "output_type": "stream",
     "text": [
      "55%\n"
     ]
    }
   ],
   "source": [
    "# проверка равенства заявленных и расчетных значений количества смертей по всем полам\n",
    "\n",
    "z = df[(df['Sex']!='Both') & (df['Age Group']!='[All]') ].groupby(['Country Name', 'Year']).\\\n",
    "    agg({'Number of deaths':'sum'}).reset_index()\n",
    "z['Ref'] = df[(df['Sex']=='Both') & (df['Age Group']=='[All]') ]['Number of deaths'].reset_index(drop=True)\n",
    "\n",
    "print(round(len(z[z['Number of deaths'] != z['Ref']]) * 100 / len(z)), '%', sep='')\n",
    "## в 55% случаев указанное суммарное количества смертей по всем полам не соответствует рассчитанному на основе приведенных данных\n",
    "## необходимо исправить несоответствующие значения"
   ]
  },
  {
   "cell_type": "code",
   "execution_count": 206,
   "id": "33acbe0f",
   "metadata": {},
   "outputs": [],
   "source": [
    "# обработка несоответствующих значений в столбцах \"Number of deaths\" и \"Death rate per 100 000 population\"\n",
    "\n",
    "for i in z[z['Number of deaths'] != z['Ref']].reset_index(drop=True).index:\n",
    "    \n",
    "    # индекс строки где необходимо произвести замену  \n",
    "    z1 = z[z['Number of deaths'] != z['Ref']].iloc[i]\n",
    "    ind = df[(df['Country Name']==z1['Country Name']) & (df['Year']==z1['Year']) & (df['Sex']=='Both') & (df['Age Group']=='[All]')].index[0]\n",
    "    \n",
    "    # замена значения \"Number of deaths\"\n",
    "    df.at[ind, 'Number of deaths'] = z1['Number of deaths']\n",
    "    \n",
    "    # замена значения  \"Death rate per 100 000 population\"\n",
    "    df.at[ind, 'Death rate per 100 000 population'] = df.iloc[ind][7] * z1['Number of deaths'] / z1['Ref']   "
   ]
  },
  {
   "cell_type": "code",
   "execution_count": 207,
   "id": "2d2d930a",
   "metadata": {},
   "outputs": [
    {
     "name": "stdout",
     "output_type": "stream",
     "text": [
      "100%\n"
     ]
    }
   ],
   "source": [
    "# проверка результатов обработки  \n",
    "\n",
    "x = df[(df['Sex']!='Both') & (df['Age Group']!='[All]') ].groupby(['Country Name', 'Year']).\\\n",
    "    agg({'Number of deaths':'sum'}).reset_index()\n",
    "x['Ref'] = df[(df['Sex']=='Both') & (df['Age Group']=='[All]') ]['Number of deaths'].reset_index(drop=True)\n",
    "\n",
    "print(round(len(x[x['Number of deaths'] == x['Ref']]) * 100 / len(x)), '%', sep='')\n",
    "## в 100% случаев указанное суммарное количества смертей по всем полам соответствует рассчитанному на основе приведенных данных"
   ]
  },
  {
   "cell_type": "code",
   "execution_count": 208,
   "id": "464fdccc",
   "metadata": {},
   "outputs": [],
   "source": [
    "# сформируем две выборки с данными о количество смертностей на 100 000 населения от заболеваний сердечно-сосудистой системы в 2014 и 2018г.\n",
    "\n",
    "df_18 = df[(df['Sex']=='Both') & (df['Age Group']=='[All]') & (df['Year']==2018)]['Death rate per 100 000 population']\n",
    "df_14 = df[(df['Sex']=='Both') & (df['Age Group']=='[All]') & (df['Year']==2014)]['Death rate per 100 000 population']"
   ]
  },
  {
   "cell_type": "markdown",
   "id": "19b884d4",
   "metadata": {},
   "source": [
    "### Проверка статистических гипотез "
   ]
  },
  {
   "cell_type": "markdown",
   "id": "de9b56b0",
   "metadata": {},
   "source": [
    "#### Расчет среднего числа смертей на 100 000 человек по всему миру (2018г.)"
   ]
  },
  {
   "cell_type": "code",
   "execution_count": 209,
   "id": "3427938b",
   "metadata": {},
   "outputs": [
    {
     "name": "stdout",
     "output_type": "stream",
     "text": [
      "ShapiroResult(statistic=0.853998064994812, pvalue=0.0004174014029558748)\n"
     ]
    },
    {
     "data": {
      "image/png": "[encoded data removed]",
      "text/plain": [
       "<Figure size 640x480 with 1 Axes>"
      ]
     },
     "metadata": {},
     "output_type": "display_data"
    }
   ],
   "source": [
    "## для определения среднего количества смертей на 100 000 по всему миру, необходимо построить доверительный интервал \n",
    "## для построения доверительного интервала необходимо определить является ли распределение выборки нормальным \n",
    "\n",
    "# построим гистограмму распределения  \n",
    "sns.histplot(df_18, bins=10)\n",
    "## судя по гистограмме, распределение выборки не является нормальным\n",
    "## дополнительно проверим распределение на нормальность с помощью критерия согласия \n",
    "\n",
    "# т.к. выборка достаточно мола воспользуемся критерием Шапиро-Уилка, определим уровень значимости на отметке 5%\n",
    "print(stats.shapiro(df_18.values))\n",
    "## гипотеза о нормальности распределения отвергается"
   ]
  },
  {
   "cell_type": "code",
   "execution_count": 211,
   "id": "599c8a91",
   "metadata": {},
   "outputs": [
    {
     "data": {
      "text/plain": [
       "(204.36813741200078, 328.5550221243349)"
      ]
     },
     "execution_count": 211,
     "metadata": {},
     "output_type": "execute_result"
    }
   ],
   "source": [
    "## предположим что соблюдаются условия выполнения ЦПТ (выборка достаточно велика и выбросов нет)\n",
    "## построим 95% асимптотический доверительный интервал для среднего \n",
    "\n",
    "stats.norm.interval(0.95, loc=df_18.values.mean(), scale=stats.sem(df_18.values))\n",
    "## с 95% уверенностью можно утверждать, что среднее по генеральной совокупности находится в интервале (204.4, 328.6)"
   ]
  },
  {
   "cell_type": "code",
   "execution_count": 212,
   "id": "01a75f55",
   "metadata": {},
   "outputs": [],
   "source": [
    "## т.к. выборка является репрезентативной, мы можем проверить предположение о выполнении ЦПТ с помощью бутстрапа\n",
    "\n",
    "def get_bootstrap_sample(x, B_sample=1):\n",
    "    N = x.size \n",
    "    sample = np.random.choice(x, size=(N, B_sample), replace=True)\n",
    "    \n",
    "    if B_sample == 1:\n",
    "        sample = sample.T[0]\n",
    "    return sample\n",
    "\n",
    "# бутстрапируем\n",
    "df_18_bootstrap = get_bootstrap_sample(df_18, B_sample=10**6)\n",
    "df_18_mean = np.mean(df_18_bootstrap, axis=0)\n",
    "df_18_median = np.median(df_18_bootstrap, axis=0)"
   ]
  },
  {
   "cell_type": "code",
   "execution_count": 213,
   "id": "6d937f0f",
   "metadata": {},
   "outputs": [
    {
     "name": "stdout",
     "output_type": "stream",
     "text": [
      "KstestResult(statistic=0.015364435534505672, pvalue=1.7444217576167326e-205)\n"
     ]
    },
    {
     "data": {
      "image/png": "[encoded data removed]",
      "text/plain": [
       "<Figure size 1000x400 with 2 Axes>"
      ]
     },
     "metadata": {},
     "output_type": "display_data"
    }
   ],
   "source": [
    "# графики\n",
    "fig = plt.figure(figsize=(10, 4))\n",
    "gs = fig.add_gridspec(1, 2, hspace=0.5, wspace=0.3)\n",
    "\n",
    "ax1 = fig.add_subplot(gs[0, 0])\n",
    "sns.histplot(df_18_mean)\n",
    "ax2 = fig.add_subplot(gs[0, 1])\n",
    "stats.probplot(df_18_mean, dist=\"norm\", plot=pylab)\n",
    "## гистограмма распределения визуально похожа на гистограмму нормального распределения \n",
    "## однако вызывает подозрение диаграмма квантиль-квантиль (qq-plot)\n",
    "\n",
    "# проверим распределение средних на нормальность с помощь КS-теста, определим уровень значимости на отметке 5%\n",
    "print(stats.kstest(df_18_mean, 'norm', args=(np.mean(df_18_mean), df_18_mean.std())))\n",
    "## гипотеза о нормальности распределения средних отвергается \n",
    "## это свидетельствует о наличии выбросов. в таком случае использовать асимптотический доверительный интервал для определения среднего в генеральной совокупности - не корректно.\n",
    "## будем использовать медиану"
   ]
  },
  {
   "cell_type": "code",
   "execution_count": 214,
   "id": "bfc323a8",
   "metadata": {},
   "outputs": [
    {
     "data": {
      "text/plain": [
       "(152.51389781, 283.54387453286444)"
      ]
     },
     "execution_count": 214,
     "metadata": {},
     "output_type": "execute_result"
    }
   ],
   "source": [
    "## построим доверительные интервалы по выборке медиан, полученной в ходе бутстрапа\n",
    "\n",
    "def stat_intervals_Ef(x, alpha=0.05):\n",
    "    left = np.quantile(x, alpha/2)\n",
    "    right = np.quantile(x, 1-alpha/2)\n",
    "    return left, right\n",
    "\n",
    "stat_intervals_Ef(df_18_median)\n",
    "## с 95% уверенностью можно утверждать, что медиана по генеральной совокупности находится в интервале (152.5, 283.5)"
   ]
  },
  {
   "cell_type": "markdown",
   "id": "0450642b",
   "metadata": {},
   "source": [
    "### Сравнение среднего числа смертей на 100 000 человек в 2018 и 2014гг."
   ]
  },
  {
   "cell_type": "markdown",
   "id": "5326ab16",
   "metadata": {},
   "source": [
    "Н0: медианы равны \n",
    "\n",
    "НА: медиана по 2018г. больше медианы по 2014г."
   ]
  },
  {
   "cell_type": "code",
   "execution_count": 215,
   "id": "48457dc5",
   "metadata": {},
   "outputs": [
    {
     "name": "stdout",
     "output_type": "stream",
     "text": [
      "2018: 214.85917294419949\n",
      "2014: 213.6100299150145\n"
     ]
    }
   ],
   "source": [
    "# медианы по выборкам \n",
    "print('2018:', np.median(df_18))\n",
    "print('2014:',np.median(df_14))"
   ]
  },
  {
   "cell_type": "code",
   "execution_count": 216,
   "id": "47a11822",
   "metadata": {},
   "outputs": [
    {
     "data": {
      "text/plain": [
       "Text(0.5, 0, '2014')"
      ]
     },
     "execution_count": 216,
     "metadata": {},
     "output_type": "execute_result"
    },
    {
     "data": {
      "image/png": "[encoded data removed]",
      "text/plain": [
       "<Figure size 1000x400 with 2 Axes>"
      ]
     },
     "metadata": {},
     "output_type": "display_data"
    }
   ],
   "source": [
    "# построим гистограммы распределений (2014 и 2018гг.) \n",
    "fig = plt.figure(figsize=(10, 4))\n",
    "gs = fig.add_gridspec(1, 2, hspace=0.5, wspace=0.3)\n",
    "\n",
    "ax1 = fig.add_subplot(gs[0, 0])\n",
    "sns.histplot(df_18, bins=10)\n",
    "ax1.set_xlabel(\"2018\")\n",
    "ax2 = fig.add_subplot(gs[0, 1])\n",
    "sns.histplot(df_14, bins=10)\n",
    "ax2.set_xlabel(\"2014\")"
   ]
  },
  {
   "cell_type": "code",
   "execution_count": 217,
   "id": "37f19940",
   "metadata": {},
   "outputs": [
    {
     "name": "stdout",
     "output_type": "stream",
     "text": [
      "2018: ShapiroResult(statistic=0.853998064994812, pvalue=0.0004174014029558748)\n",
      "2014: ShapiroResult(statistic=0.8756017684936523, pvalue=0.0013151818420737982)\n"
     ]
    },
    {
     "data": {
      "text/plain": [
       "WilcoxonResult(statistic=229.0, pvalue=0.3669361248612404)"
      ]
     },
     "execution_count": 217,
     "metadata": {},
     "output_type": "execute_result"
    }
   ],
   "source": [
    "# проверим распределения на нормальность с помощь критерия Шапиро-Уилка, определим уровень значимости на отметке 5%\n",
    "print('2018:', stats.shapiro(df_18.values))\n",
    "print('2014:', stats.shapiro(df_14.values))\n",
    "## оба распределения не подчиняются закону нормального распределения\n",
    "## в таком случае, при условии, что выборки являются связанными, для проверки гипотезы о равенстве медиан можно воспользоваться двух выборочным критерием Уилкоксона, определим уровень значимости на отметке 5%\n",
    "\n",
    "stats.wilcoxon(x=df_18.values, y=df_14.values, zero_method=\"wilcox\")\n",
    "## p-value превышает уровень значимости, следовательно, нулевая гипотеза не отвергается"
   ]
  },
  {
   "cell_type": "code",
   "execution_count": 218,
   "id": "35a5ed65",
   "metadata": {},
   "outputs": [
    {
     "data": {
      "text/plain": [
       "(-38.1791798951092, 12.08647184534837)"
      ]
     },
     "execution_count": 218,
     "metadata": {},
     "output_type": "execute_result"
    }
   ],
   "source": [
    "# проверим Н0 с помощью бутстрапа\n",
    "\n",
    "def get_bootstrap_depend(x, y, n, tip):\n",
    "    \n",
    "    # хранилище для итоговых значений разностей \n",
    "    itg_razn = np.zeros(n)\n",
    "    \n",
    "    # парная выборка из которой будем делать подвыборки \n",
    "    v1 = np.array([(x[i], y[i]) for i in range(len(x))]) \n",
    "    \n",
    "    for i in range(n):\n",
    "    \n",
    "        # выбираем случайные индексы из парной выборки \n",
    "        ind = np.random.randint(v1.shape[0], size=len(v1))\n",
    "        \n",
    "        # формируем одну парную бутстрап выборку (1 бутстрап выборка состоит из 2 связанных выборок)\n",
    "        boot_vib = np.array([v1[i] for i in ind])\n",
    "        \n",
    "        # находим разность средних этих двух новых связанных выборок \n",
    "        if tip == 'mean':\n",
    "            razn = np.diff(np.mean(boot_vib, axis=0))\n",
    "        \n",
    "        # находим разность медиан этих двух новых связанных выборок \n",
    "        elif tip == 'median':\n",
    "            razn = np.diff(np.median(boot_vib, axis=0))\n",
    "            \n",
    "        # находим разность дисперсий этих двух новых связанных выборок \n",
    "        elif tip == 'var':\n",
    "            razn = np.diff(np.var(boot_vib, axis=0, ddof=1))\n",
    "\n",
    "        # сохраняем полученную разность из единичной бутстрап выборки\n",
    "        itg_razn[i] = razn\n",
    "        \n",
    "    return itg_razn\n",
    "    \n",
    "stat_intervals_Ef(get_bootstrap_depend(x=df_14.values, y=df_18.values, n=10**6, tip='median'), alpha=0.05)    \n",
    "\n",
    "## 0 входит в доверительный интервал, значит на уровне значимость 5% разница между медианами статистически незначима \n",
    "## будстрап подтвердил результат теста Уилкоксона"
   ]
  },
  {
   "cell_type": "markdown",
   "id": "25aa44fe",
   "metadata": {},
   "source": [
    "### Сравнение неоднородность исследуемого показателя в 2018г. по сравнению с 2014г."
   ]
  },
  {
   "cell_type": "markdown",
   "id": "a213d413",
   "metadata": {},
   "source": [
    "Н0: дисперсии равны\n",
    "\n",
    "НА: дисперсия по 2018г. меньше дисперсии по 2014г."
   ]
  },
  {
   "cell_type": "code",
   "execution_count": 219,
   "id": "47608d97",
   "metadata": {},
   "outputs": [
    {
     "name": "stdout",
     "output_type": "stream",
     "text": [
      "2018: 33121.441670715285\n",
      "2014: 34537.754739077165\n"
     ]
    }
   ],
   "source": [
    "# дисперсии по выборкам\n",
    "print('2018:', np.var(df_18.values, ddof=1))\n",
    "print('2014:', np.var(df_14.values, ddof=1))"
   ]
  },
  {
   "cell_type": "code",
   "execution_count": 220,
   "id": "fe09347d",
   "metadata": {},
   "outputs": [
    {
     "name": "stdout",
     "output_type": "stream",
     "text": [
      "2018: (21420.306323248682, 57946.517755573026)\n",
      "2014: (22336.26463434947, 60424.38122477839)\n"
     ]
    }
   ],
   "source": [
    "# построим доверительные интервалы для дисперсий двух выборок \n",
    "\n",
    "# 2018г.\n",
    "alpha = 0.05 \n",
    "n = len(df_18.values)\n",
    "var_hat = np.var(df_18.values, ddof=1)\n",
    "chi_l, chi_u = stats.chi2.ppf([1-alpha/2, alpha/2], df = n - 1)\n",
    "left = (n - 1) * var_hat/chi_l\n",
    "right = (n - 1) * var_hat/chi_u\n",
    "print(f\"2018: ({left}, {right})\")\n",
    "\n",
    "# 2014г.\n",
    "n = len(df_14.values)\n",
    "var_hat = np.var(df_14.values, ddof=1)\n",
    "chi_l, chi_u = stats.chi2.ppf([1-alpha/2, alpha/2], df = n - 1)\n",
    "left = (n - 1) * var_hat/chi_l\n",
    "right = (n - 1) * var_hat/chi_u\n",
    "print(f\"2014: ({left}, {right})\")"
   ]
  },
  {
   "cell_type": "code",
   "execution_count": 221,
   "id": "bbf94517",
   "metadata": {},
   "outputs": [
    {
     "data": {
      "text/plain": [
       "FlignerResult(statistic=0.04701572092399768, pvalue=0.8283399831851284)"
      ]
     },
     "execution_count": 221,
     "metadata": {},
     "output_type": "execute_result"
    }
   ],
   "source": [
    "# т.к. распределения выборок отличны от нормальных для проверки гипотезы о равенстве можно воспользоваться непараметрическим критерием Флигнера-Килина\n",
    "\n",
    "stats.fligner(df_18.values, df_14.values)\n",
    "## p-value превышает уровень значимости, следовательно, нулевая гипотеза не отвергается"
   ]
  },
  {
   "cell_type": "code",
   "execution_count": 222,
   "id": "53143d5a",
   "metadata": {},
   "outputs": [
    {
     "data": {
      "text/plain": [
       "(-1628.6798786691318, 5231.99458123098)"
      ]
     },
     "execution_count": 222,
     "metadata": {},
     "output_type": "execute_result"
    }
   ],
   "source": [
    "# проверим Н0 с помощью бутстрапа\n",
    "\n",
    "stat_intervals_Ef(get_bootstrap_depend(x=df_18.values, y=df_14.values, n=10**6, tip='var'), alpha=0.05) \n",
    "## будстрап подтвердил результат теста Флигнера-Килина"
   ]
  },
  {
   "cell_type": "markdown",
   "id": "369e039c",
   "metadata": {},
   "source": [
    "### Итог проверка статистических гипотез\n",
    "- можно утверждать, что в 2018 году, по миру, средний показатель смертности на 100 000 населения от заболеваний сердечно-сосудистой системы находился в интервале от 152.5 до 283.5 человек;  \n",
    "- можно утверждать, что средний показатели смертности на 100 000 населения от заболеваний сердечно-сосудистой системы в 2018 году не изменился относительно 2014 года; \n",
    "- можно утверждать, что разброс (неравенство), по миру, показателей смертности на 100 000 населения от заболеваний сердечно-сосудистой системы в 2018 году не изменился относительно 2014 года.\n",
    "\n",
    "Все утверждения делаются с 95% уверенностью.\n",
    "\n",
    "\n",
    "\n",
    "\n"
   ]
  }
 ],
 "metadata": {
  "kernelspec": {
   "display_name": "Python 3 (ipykernel)",
   "language": "python",
   "name": "python3"
  },
  "language_info": {
   "codemirror_mode": {
    "name": "ipython",
    "version": 3
   },
   "file_extension": ".py",
   "mimetype": "text/x-python",
   "name": "python",
   "nbconvert_exporter": "python",
   "pygments_lexer": "ipython3",
   "version": "3.9.13"
  }
 },
 "nbformat": 4,
 "nbformat_minor": 5
}
